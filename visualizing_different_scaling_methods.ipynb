{
  "nbformat": 4,
  "nbformat_minor": 0,
  "metadata": {
    "colab": {
      "name": "visualizing different scaling methods.ipynb",
      "provenance": [],
      "private_outputs": true,
      "authorship_tag": "ABX9TyO/AfcUkXI83IMgtAN5wZtx",
      "include_colab_link": true
    },
    "kernelspec": {
      "name": "python3",
      "display_name": "Python 3"
    }
  },
  "cells": [
    {
      "cell_type": "markdown",
      "metadata": {
        "id": "view-in-github",
        "colab_type": "text"
      },
      "source": [
        "<a href=\"https://colab.research.google.com/github/dmarinere/learningPCA/blob/master/visualizing_different_scaling_methods.ipynb\" target=\"_parent\"><img src=\"https://colab.research.google.com/assets/colab-badge.svg\" alt=\"Open In Colab\"/></a>"
      ]
    },
    {
      "cell_type": "code",
      "metadata": {
        "id": "MMzm7MCkJon4",
        "colab_type": "code",
        "colab": {}
      },
      "source": [
        "\n",
        "import numpy as np\n",
        "\n",
        "import matplotlib as mpl\n",
        "from matplotlib import pyplot as plt\n",
        "from matplotlib import cm\n",
        "\n",
        "from sklearn.preprocessing import MinMaxScaler\n",
        "from sklearn.preprocessing import minmax_scale\n",
        "from sklearn.preprocessing import MaxAbsScaler\n",
        "from sklearn.preprocessing import StandardScaler\n",
        "from sklearn.preprocessing import RobustScaler\n",
        "from sklearn.preprocessing import Normalizer\n",
        "from sklearn.preprocessing import QuantileTransformer\n",
        "from sklearn.preprocessing import PowerTransformer\n",
        "\n",
        "from sklearn.datasets import fetch_california_housing\n",
        "\n",
        "print(__doc__)\n",
        "\n",
        "dataset = fetch_california_housing()\n",
        "X_full, y_full = dataset.data, dataset.target\n",
        "\n",
        "# Take only 2 features to make visualization easier\n",
        "# Feature of 0 has a long tail distribution.\n",
        "# Feature 5 has a few but very large outliers.\n",
        "\n",
        "X = X_full[:, [0, 5]]\n",
        "\n",
        "distributions = [\n",
        "    ('Unscaled data', X),\n",
        "    ('Data after standard scaling',\n",
        "        StandardScaler().fit_transform(X)),\n",
        "    ('Data after min-max scaling',\n",
        "        MinMaxScaler().fit_transform(X)),\n",
        "    ('Data after max-abs scaling',\n",
        "        MaxAbsScaler().fit_transform(X)),\n",
        "    ('Data after robust scaling',\n",
        "        RobustScaler(quantile_range=(25, 75)).fit_transform(X)),\n",
        "    ('Data after power transformation (Yeo-Johnson)',\n",
        "     PowerTransformer(method='yeo-johnson').fit_transform(X)),\n",
        "    ('Data after power transformation (Box-Cox)',\n",
        "     PowerTransformer(method='box-cox').fit_transform(X)),\n",
        "    ('Data after quantile transformation (gaussian pdf)',\n",
        "        QuantileTransformer(output_distribution='normal')\n",
        "        .fit_transform(X)),\n",
        "    ('Data after quantile transformation (uniform pdf)',\n",
        "        QuantileTransformer(output_distribution='uniform')\n",
        "        .fit_transform(X)),\n",
        "    ('Data after sample-wise L2 normalizing',\n",
        "        Normalizer().fit_transform(X)),\n",
        "]\n",
        "\n",
        "# scale the output between 0 and 1 for the colorbar\n",
        "y = minmax_scale(y_full)\n",
        "\n",
        "# plasma does not exist in matplotlib < 1.5\n",
        "cmap = getattr(cm, 'plasma_r', cm.hot_r)\n",
        "\n",
        "def create_axes(title, figsize=(16, 6)):\n",
        "    fig = plt.figure(figsize=figsize)\n",
        "    fig.suptitle(title)\n",
        "\n",
        "    # define the axis for the first plot\n",
        "    left, width = 0.1, 0.22\n",
        "    bottom, height = 0.1, 0.7\n",
        "    bottom_h = height + 0.15\n",
        "    left_h = left + width + 0.02\n",
        "\n",
        "    rect_scatter = [left, bottom, width, height]\n",
        "    rect_histx = [left, bottom_h, width, 0.1]\n",
        "    rect_histy = [left_h, bottom, 0.05, height]\n",
        "\n",
        "    ax_scatter = plt.axes(rect_scatter)\n",
        "    ax_histx = plt.axes(rect_histx)\n",
        "    ax_histy = plt.axes(rect_histy)\n",
        "\n",
        "    # define the axis for the zoomed-in plot\n",
        "    left = width + left + 0.2\n",
        "    left_h = left + width + 0.02\n",
        "\n",
        "    rect_scatter = [left, bottom, width, height]\n",
        "    rect_histx = [left, bottom_h, width, 0.1]\n",
        "    rect_histy = [left_h, bottom, 0.05, height]\n",
        "\n",
        "    ax_scatter_zoom = plt.axes(rect_scatter)\n",
        "    ax_histx_zoom = plt.axes(rect_histx)\n",
        "    ax_histy_zoom = plt.axes(rect_histy)\n",
        "\n",
        "    # define the axis for the colorbar\n",
        "    left, width = width + left + 0.13, 0.01\n",
        "\n",
        "    rect_colorbar = [left, bottom, width, height]\n",
        "    ax_colorbar = plt.axes(rect_colorbar)\n",
        "\n",
        "    return ((ax_scatter, ax_histy, ax_histx),\n",
        "            (ax_scatter_zoom, ax_histy_zoom, ax_histx_zoom),\n",
        "            ax_colorbar)\n",
        "\n",
        "\n",
        "def plot_distribution(axes, X, y, hist_nbins=50, title=\"\",\n",
        "                      x0_label=\"\", x1_label=\"\"):\n",
        "    ax, hist_X1, hist_X0 = axes\n",
        "\n",
        "    ax.set_title(title)\n",
        "    ax.set_xlabel(x0_label)\n",
        "    ax.set_ylabel(x1_label)\n",
        "\n",
        "    # The scatter plot\n",
        "    colors = cmap(y)\n",
        "    ax.scatter(X[:, 0], X[:, 1], alpha=0.5, marker='o', s=5, lw=0, c=colors)\n",
        "\n",
        "    # Removing the top and the right spine for aesthetics\n",
        "    # make nice axis layout\n",
        "    ax.spines['top'].set_visible(False)\n",
        "    ax.spines['right'].set_visible(False)\n",
        "    ax.get_xaxis().tick_bottom()\n",
        "    ax.get_yaxis().tick_left()\n",
        "    ax.spines['left'].set_position(('outward', 10))\n",
        "    ax.spines['bottom'].set_position(('outward', 10))\n",
        "\n",
        "    # Histogram for axis X1 (feature 5)\n",
        "    hist_X1.set_ylim(ax.get_ylim())\n",
        "    hist_X1.hist(X[:, 1], bins=hist_nbins, orientation='horizontal',\n",
        "                 color='grey', ec='grey')\n",
        "    hist_X1.axis('off')\n",
        "\n",
        "    # Histogram for axis X0 (feature 0)\n",
        "    hist_X0.set_xlim(ax.get_xlim())\n",
        "    hist_X0.hist(X[:, 0], bins=hist_nbins, orientation='vertical',\n",
        "                 color='grey', ec='grey')\n",
        "    hist_X0.axis('off')"
      ],
      "execution_count": null,
      "outputs": []
    },
    {
      "cell_type": "code",
      "metadata": {
        "id": "2vyCdeihJ5F6",
        "colab_type": "code",
        "colab": {}
      },
      "source": [
        "def make_plot(item_idx):\n",
        "    title, X = distributions[item_idx]\n",
        "    ax_zoom_out, ax_zoom_in, ax_colorbar = create_axes(title)\n",
        "    axarr = (ax_zoom_out, ax_zoom_in)\n",
        "    plot_distribution(axarr[0], X, y, hist_nbins=200,\n",
        "                      x0_label=\"Median Income\",\n",
        "                      x1_label=\"Number of households\",\n",
        "                      title=\"Full data\")\n",
        "\n",
        "    # zoom-in\n",
        "    zoom_in_percentile_range = (0, 99)\n",
        "    cutoffs_X0 = np.percentile(X[:, 0], zoom_in_percentile_range)\n",
        "    cutoffs_X1 = np.percentile(X[:, 1], zoom_in_percentile_range)\n",
        "\n",
        "    non_outliers_mask = (\n",
        "        np.all(X > [cutoffs_X0[0], cutoffs_X1[0]], axis=1) &\n",
        "        np.all(X < [cutoffs_X0[1], cutoffs_X1[1]], axis=1))\n",
        "    plot_distribution(axarr[1], X[non_outliers_mask], y[non_outliers_mask],\n",
        "                      hist_nbins=50,\n",
        "                      x0_label=\"Median Income\",\n",
        "                      x1_label=\"Number of households\",\n",
        "                      title=\"Zoom-in\")\n",
        "\n",
        "    norm = mpl.colors.Normalize(y_full.min(), y_full.max())\n",
        "    mpl.colorbar.ColorbarBase(ax_colorbar, cmap=cmap,\n",
        "                              norm=norm, orientation='vertical',\n",
        "                              label='Color mapping for values of y')\n",
        "\n"
      ],
      "execution_count": null,
      "outputs": []
    },
    {
      "cell_type": "code",
      "metadata": {
        "id": "8LGGwjsVKRZ8",
        "colab_type": "code",
        "colab": {}
      },
      "source": [
        "\n",
        "\n",
        "make_plot(0)\n",
        "\n"
      ],
      "execution_count": null,
      "outputs": []
    },
    {
      "cell_type": "code",
      "metadata": {
        "id": "4n0YG5oSKUzL",
        "colab_type": "code",
        "colab": {}
      },
      "source": [
        "make_plot(3)"
      ],
      "execution_count": null,
      "outputs": []
    },
    {
      "cell_type": "code",
      "metadata": {
        "id": "ha0usNYQKcRL",
        "colab_type": "code",
        "colab": {}
      },
      "source": [
        ""
      ],
      "execution_count": null,
      "outputs": []
    },
    {
      "cell_type": "markdown",
      "metadata": {
        "id": "3I_NokOUCjPG",
        "colab_type": "text"
      },
      "source": [
        "## **`Gotten`** **from** **bold text** **Scikit** **Learn** **Documentation**"
      ]
    }
  ]
}